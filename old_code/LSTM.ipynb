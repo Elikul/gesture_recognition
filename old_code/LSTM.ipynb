{
 "cells": [
  {
   "cell_type": "code",
   "execution_count": 1,
   "id": "8d132dec",
   "metadata": {},
   "outputs": [
    {
     "name": "stderr",
     "output_type": "stream",
     "text": [
      "C:\\Users\\elina\\anaconda3\\lib\\site-packages\\scipy\\__init__.py:146: UserWarning: A NumPy version >=1.16.5 and <1.23.0 is required for this version of SciPy (detected version 1.23.4\n",
      "  warnings.warn(f\"A NumPy version >={np_minversion} and <{np_maxversion}\"\n"
     ]
    }
   ],
   "source": [
    "from sklearn.model_selection import train_test_split\n",
    "from tensorflow.keras.utils import to_categorical\n",
    "import os\n",
    "import numpy as np\n",
    "import tensorflow as tf"
   ]
  },
  {
   "cell_type": "code",
   "execution_count": 2,
   "id": "ca34d2f7",
   "metadata": {},
   "outputs": [],
   "source": [
    "numbers = ['1', '2', '3', '4', '5', '6', '7', '8', '9', '10']"
   ]
  },
  {
   "cell_type": "code",
   "execution_count": 3,
   "id": "16d87859",
   "metadata": {},
   "outputs": [],
   "source": [
    "videos = {'ALY': 2, 'ELINA': 4, 'ILYA': 4, 'NASTYA': 2, 'NIKITA': 2, 'OLYA': 2, 'POLINA': 2, 'SACHA': 1, 'SACHA_GOL': 2,\n",
    "          'SERGEY': 2, 'SLAVA': 3, 'TATYANA': 1, 'TIMOFEY': 2, 'VASYA': 2, 'WOMAN': 2}"
   ]
  },
  {
   "cell_type": "code",
   "execution_count": 4,
   "id": "8a04c6a2",
   "metadata": {},
   "outputs": [],
   "source": [
    "label_map = {label: num for num, label in enumerate(numbers)}"
   ]
  },
  {
   "cell_type": "code",
   "execution_count": 5,
   "id": "09b03d15",
   "metadata": {},
   "outputs": [
    {
     "data": {
      "text/plain": [
       "{'1': 0,\n",
       " '2': 1,\n",
       " '3': 2,\n",
       " '4': 3,\n",
       " '5': 4,\n",
       " '6': 5,\n",
       " '7': 6,\n",
       " '8': 7,\n",
       " '9': 8,\n",
       " '10': 9}"
      ]
     },
     "execution_count": 5,
     "metadata": {},
     "output_type": "execute_result"
    }
   ],
   "source": [
    "label_map"
   ]
  },
  {
   "cell_type": "code",
   "execution_count": 6,
   "id": "22467c2a",
   "metadata": {},
   "outputs": [],
   "source": [
    "DATA_PATH = os.path.join('cut')"
   ]
  },
  {
   "cell_type": "code",
   "execution_count": 7,
   "id": "616d72ce",
   "metadata": {},
   "outputs": [
    {
     "data": {
      "text/plain": [
       "['cut\\\\1\\\\ALY_1_0',\n",
       " 'cut\\\\1\\\\ALY_1_1',\n",
       " 'cut\\\\1\\\\ELINA_1_0',\n",
       " 'cut\\\\1\\\\ELINA_1_1',\n",
       " 'cut\\\\1\\\\ELINA_1_2',\n",
       " 'cut\\\\1\\\\ELINA_1_3',\n",
       " 'cut\\\\1\\\\ILYA_1_0',\n",
       " 'cut\\\\1\\\\ILYA_1_1',\n",
       " 'cut\\\\1\\\\ILYA_1_2',\n",
       " 'cut\\\\1\\\\ILYA_1_3',\n",
       " 'cut\\\\1\\\\NASTYA_1_0',\n",
       " 'cut\\\\1\\\\NASTYA_1_1',\n",
       " 'cut\\\\1\\\\NIKITA_1_0',\n",
       " 'cut\\\\1\\\\NIKITA_1_1',\n",
       " 'cut\\\\1\\\\OLYA_1_0',\n",
       " 'cut\\\\1\\\\OLYA_1_1',\n",
       " 'cut\\\\1\\\\POLINA_1_0',\n",
       " 'cut\\\\1\\\\POLINA_1_1',\n",
       " 'cut\\\\1\\\\SACHA_1_0',\n",
       " 'cut\\\\1\\\\SACHA_GOL_1_0',\n",
       " 'cut\\\\1\\\\SACHA_GOL_1_1',\n",
       " 'cut\\\\1\\\\SERGEY_1_0',\n",
       " 'cut\\\\1\\\\SERGEY_1_1',\n",
       " 'cut\\\\1\\\\SLAVA_1_0',\n",
       " 'cut\\\\1\\\\SLAVA_1_1',\n",
       " 'cut\\\\1\\\\SLAVA_1_2',\n",
       " 'cut\\\\1\\\\TATYANA_1_0',\n",
       " 'cut\\\\1\\\\TIMOFEY_1_0',\n",
       " 'cut\\\\1\\\\TIMOFEY_1_1',\n",
       " 'cut\\\\1\\\\VASYA_1_0',\n",
       " 'cut\\\\1\\\\VASYA_1_1',\n",
       " 'cut\\\\1\\\\WOMAN_1_0',\n",
       " 'cut\\\\1\\\\WOMAN_1_1',\n",
       " 'cut\\\\2\\\\ALY_2_0',\n",
       " 'cut\\\\2\\\\ALY_2_1',\n",
       " 'cut\\\\2\\\\ELINA_2_0',\n",
       " 'cut\\\\2\\\\ELINA_2_1',\n",
       " 'cut\\\\2\\\\ELINA_2_2',\n",
       " 'cut\\\\2\\\\ELINA_2_3',\n",
       " 'cut\\\\2\\\\ILYA_2_0',\n",
       " 'cut\\\\2\\\\ILYA_2_1',\n",
       " 'cut\\\\2\\\\ILYA_2_2',\n",
       " 'cut\\\\2\\\\ILYA_2_3',\n",
       " 'cut\\\\2\\\\NASTYA_2_0',\n",
       " 'cut\\\\2\\\\NASTYA_2_1',\n",
       " 'cut\\\\2\\\\NIKITA_2_0',\n",
       " 'cut\\\\2\\\\NIKITA_2_1',\n",
       " 'cut\\\\2\\\\OLYA_2_0',\n",
       " 'cut\\\\2\\\\OLYA_2_1',\n",
       " 'cut\\\\2\\\\POLINA_2_0',\n",
       " 'cut\\\\2\\\\POLINA_2_1',\n",
       " 'cut\\\\2\\\\SACHA_2_0',\n",
       " 'cut\\\\2\\\\SACHA_GOL_2_0',\n",
       " 'cut\\\\2\\\\SACHA_GOL_2_1',\n",
       " 'cut\\\\2\\\\SERGEY_2_0',\n",
       " 'cut\\\\2\\\\SERGEY_2_1',\n",
       " 'cut\\\\2\\\\SLAVA_2_0',\n",
       " 'cut\\\\2\\\\SLAVA_2_1',\n",
       " 'cut\\\\2\\\\SLAVA_2_2',\n",
       " 'cut\\\\2\\\\TATYANA_2_0',\n",
       " 'cut\\\\2\\\\TIMOFEY_2_0',\n",
       " 'cut\\\\2\\\\TIMOFEY_2_1',\n",
       " 'cut\\\\2\\\\VASYA_2_0',\n",
       " 'cut\\\\2\\\\VASYA_2_1',\n",
       " 'cut\\\\2\\\\WOMAN_2_0',\n",
       " 'cut\\\\2\\\\WOMAN_2_1',\n",
       " 'cut\\\\3\\\\ALY_3_0',\n",
       " 'cut\\\\3\\\\ALY_3_1',\n",
       " 'cut\\\\3\\\\ELINA_3_0',\n",
       " 'cut\\\\3\\\\ELINA_3_1',\n",
       " 'cut\\\\3\\\\ELINA_3_2',\n",
       " 'cut\\\\3\\\\ELINA_3_3',\n",
       " 'cut\\\\3\\\\ILYA_3_0',\n",
       " 'cut\\\\3\\\\ILYA_3_1',\n",
       " 'cut\\\\3\\\\ILYA_3_2',\n",
       " 'cut\\\\3\\\\ILYA_3_3',\n",
       " 'cut\\\\3\\\\NASTYA_3_0',\n",
       " 'cut\\\\3\\\\NASTYA_3_1',\n",
       " 'cut\\\\3\\\\NIKITA_3_0',\n",
       " 'cut\\\\3\\\\NIKITA_3_1',\n",
       " 'cut\\\\3\\\\OLYA_3_0',\n",
       " 'cut\\\\3\\\\OLYA_3_1',\n",
       " 'cut\\\\3\\\\POLINA_3_0',\n",
       " 'cut\\\\3\\\\POLINA_3_1',\n",
       " 'cut\\\\3\\\\SACHA_3_0',\n",
       " 'cut\\\\3\\\\SACHA_GOL_3_0',\n",
       " 'cut\\\\3\\\\SACHA_GOL_3_1',\n",
       " 'cut\\\\3\\\\SERGEY_3_0',\n",
       " 'cut\\\\3\\\\SERGEY_3_1',\n",
       " 'cut\\\\3\\\\SLAVA_3_0',\n",
       " 'cut\\\\3\\\\SLAVA_3_1',\n",
       " 'cut\\\\3\\\\SLAVA_3_2',\n",
       " 'cut\\\\3\\\\TATYANA_3_0',\n",
       " 'cut\\\\3\\\\TIMOFEY_3_0',\n",
       " 'cut\\\\3\\\\TIMOFEY_3_1',\n",
       " 'cut\\\\3\\\\VASYA_3_0',\n",
       " 'cut\\\\3\\\\VASYA_3_1',\n",
       " 'cut\\\\3\\\\WOMAN_3_0',\n",
       " 'cut\\\\3\\\\WOMAN_3_1',\n",
       " 'cut\\\\4\\\\ALY_4_0',\n",
       " 'cut\\\\4\\\\ALY_4_1',\n",
       " 'cut\\\\4\\\\ELINA_4_0',\n",
       " 'cut\\\\4\\\\ELINA_4_1',\n",
       " 'cut\\\\4\\\\ELINA_4_2',\n",
       " 'cut\\\\4\\\\ELINA_4_3',\n",
       " 'cut\\\\4\\\\ILYA_4_0',\n",
       " 'cut\\\\4\\\\ILYA_4_1',\n",
       " 'cut\\\\4\\\\ILYA_4_2',\n",
       " 'cut\\\\4\\\\ILYA_4_3',\n",
       " 'cut\\\\4\\\\NASTYA_4_0',\n",
       " 'cut\\\\4\\\\NASTYA_4_1',\n",
       " 'cut\\\\4\\\\NIKITA_4_0',\n",
       " 'cut\\\\4\\\\NIKITA_4_1',\n",
       " 'cut\\\\4\\\\OLYA_4_0',\n",
       " 'cut\\\\4\\\\OLYA_4_1',\n",
       " 'cut\\\\4\\\\POLINA_4_0',\n",
       " 'cut\\\\4\\\\POLINA_4_1',\n",
       " 'cut\\\\4\\\\SACHA_4_0',\n",
       " 'cut\\\\4\\\\SACHA_GOL_4_0',\n",
       " 'cut\\\\4\\\\SACHA_GOL_4_1',\n",
       " 'cut\\\\4\\\\SERGEY_4_0',\n",
       " 'cut\\\\4\\\\SERGEY_4_1',\n",
       " 'cut\\\\4\\\\SLAVA_4_0',\n",
       " 'cut\\\\4\\\\SLAVA_4_1',\n",
       " 'cut\\\\4\\\\SLAVA_4_2',\n",
       " 'cut\\\\4\\\\TATYANA_4_0',\n",
       " 'cut\\\\4\\\\TIMOFEY_4_0',\n",
       " 'cut\\\\4\\\\TIMOFEY_4_1',\n",
       " 'cut\\\\4\\\\VASYA_4_0',\n",
       " 'cut\\\\4\\\\VASYA_4_1',\n",
       " 'cut\\\\4\\\\WOMAN_4_0',\n",
       " 'cut\\\\4\\\\WOMAN_4_1',\n",
       " 'cut\\\\5\\\\ALY_5_0',\n",
       " 'cut\\\\5\\\\ALY_5_1',\n",
       " 'cut\\\\5\\\\ELINA_5_0',\n",
       " 'cut\\\\5\\\\ELINA_5_1',\n",
       " 'cut\\\\5\\\\ELINA_5_2',\n",
       " 'cut\\\\5\\\\ELINA_5_3',\n",
       " 'cut\\\\5\\\\ILYA_5_0',\n",
       " 'cut\\\\5\\\\ILYA_5_1',\n",
       " 'cut\\\\5\\\\ILYA_5_2',\n",
       " 'cut\\\\5\\\\ILYA_5_3',\n",
       " 'cut\\\\5\\\\NASTYA_5_0',\n",
       " 'cut\\\\5\\\\NASTYA_5_1',\n",
       " 'cut\\\\5\\\\NIKITA_5_0',\n",
       " 'cut\\\\5\\\\NIKITA_5_1',\n",
       " 'cut\\\\5\\\\OLYA_5_0',\n",
       " 'cut\\\\5\\\\OLYA_5_1',\n",
       " 'cut\\\\5\\\\POLINA_5_0',\n",
       " 'cut\\\\5\\\\POLINA_5_1',\n",
       " 'cut\\\\5\\\\SACHA_5_0',\n",
       " 'cut\\\\5\\\\SACHA_GOL_5_0',\n",
       " 'cut\\\\5\\\\SACHA_GOL_5_1',\n",
       " 'cut\\\\5\\\\SERGEY_5_0',\n",
       " 'cut\\\\5\\\\SERGEY_5_1',\n",
       " 'cut\\\\5\\\\SLAVA_5_0',\n",
       " 'cut\\\\5\\\\SLAVA_5_1',\n",
       " 'cut\\\\5\\\\SLAVA_5_2',\n",
       " 'cut\\\\5\\\\TATYANA_5_0',\n",
       " 'cut\\\\5\\\\TIMOFEY_5_0',\n",
       " 'cut\\\\5\\\\TIMOFEY_5_1',\n",
       " 'cut\\\\5\\\\VASYA_5_0',\n",
       " 'cut\\\\5\\\\VASYA_5_1',\n",
       " 'cut\\\\5\\\\WOMAN_5_0',\n",
       " 'cut\\\\5\\\\WOMAN_5_1',\n",
       " 'cut\\\\6\\\\ALY_6_0',\n",
       " 'cut\\\\6\\\\ALY_6_1',\n",
       " 'cut\\\\6\\\\ELINA_6_0',\n",
       " 'cut\\\\6\\\\ELINA_6_1',\n",
       " 'cut\\\\6\\\\ELINA_6_2',\n",
       " 'cut\\\\6\\\\ELINA_6_3',\n",
       " 'cut\\\\6\\\\ILYA_6_0',\n",
       " 'cut\\\\6\\\\ILYA_6_1',\n",
       " 'cut\\\\6\\\\ILYA_6_2',\n",
       " 'cut\\\\6\\\\ILYA_6_3',\n",
       " 'cut\\\\6\\\\NASTYA_6_0',\n",
       " 'cut\\\\6\\\\NASTYA_6_1',\n",
       " 'cut\\\\6\\\\NIKITA_6_0',\n",
       " 'cut\\\\6\\\\NIKITA_6_1',\n",
       " 'cut\\\\6\\\\OLYA_6_0',\n",
       " 'cut\\\\6\\\\OLYA_6_1',\n",
       " 'cut\\\\6\\\\POLINA_6_0',\n",
       " 'cut\\\\6\\\\POLINA_6_1',\n",
       " 'cut\\\\6\\\\SACHA_6_0',\n",
       " 'cut\\\\6\\\\SACHA_GOL_6_0',\n",
       " 'cut\\\\6\\\\SACHA_GOL_6_1',\n",
       " 'cut\\\\6\\\\SERGEY_6_0',\n",
       " 'cut\\\\6\\\\SERGEY_6_1',\n",
       " 'cut\\\\6\\\\SLAVA_6_0',\n",
       " 'cut\\\\6\\\\SLAVA_6_1',\n",
       " 'cut\\\\6\\\\SLAVA_6_2',\n",
       " 'cut\\\\6\\\\TATYANA_6_0',\n",
       " 'cut\\\\6\\\\TIMOFEY_6_0',\n",
       " 'cut\\\\6\\\\TIMOFEY_6_1',\n",
       " 'cut\\\\6\\\\VASYA_6_0',\n",
       " 'cut\\\\6\\\\VASYA_6_1',\n",
       " 'cut\\\\6\\\\WOMAN_6_0',\n",
       " 'cut\\\\6\\\\WOMAN_6_1',\n",
       " 'cut\\\\7\\\\ALY_7_0',\n",
       " 'cut\\\\7\\\\ALY_7_1',\n",
       " 'cut\\\\7\\\\ELINA_7_0',\n",
       " 'cut\\\\7\\\\ELINA_7_1',\n",
       " 'cut\\\\7\\\\ELINA_7_2',\n",
       " 'cut\\\\7\\\\ELINA_7_3',\n",
       " 'cut\\\\7\\\\ILYA_7_0',\n",
       " 'cut\\\\7\\\\ILYA_7_1',\n",
       " 'cut\\\\7\\\\ILYA_7_2',\n",
       " 'cut\\\\7\\\\ILYA_7_3',\n",
       " 'cut\\\\7\\\\NASTYA_7_0',\n",
       " 'cut\\\\7\\\\NASTYA_7_1',\n",
       " 'cut\\\\7\\\\NIKITA_7_0',\n",
       " 'cut\\\\7\\\\NIKITA_7_1',\n",
       " 'cut\\\\7\\\\OLYA_7_0',\n",
       " 'cut\\\\7\\\\OLYA_7_1',\n",
       " 'cut\\\\7\\\\POLINA_7_0',\n",
       " 'cut\\\\7\\\\POLINA_7_1',\n",
       " 'cut\\\\7\\\\SACHA_7_0',\n",
       " 'cut\\\\7\\\\SACHA_GOL_7_0',\n",
       " 'cut\\\\7\\\\SACHA_GOL_7_1',\n",
       " 'cut\\\\7\\\\SERGEY_7_0',\n",
       " 'cut\\\\7\\\\SERGEY_7_1',\n",
       " 'cut\\\\7\\\\SLAVA_7_0',\n",
       " 'cut\\\\7\\\\SLAVA_7_1',\n",
       " 'cut\\\\7\\\\SLAVA_7_2',\n",
       " 'cut\\\\7\\\\TATYANA_7_0',\n",
       " 'cut\\\\7\\\\TIMOFEY_7_0',\n",
       " 'cut\\\\7\\\\TIMOFEY_7_1',\n",
       " 'cut\\\\7\\\\VASYA_7_0',\n",
       " 'cut\\\\7\\\\VASYA_7_1',\n",
       " 'cut\\\\7\\\\WOMAN_7_0',\n",
       " 'cut\\\\7\\\\WOMAN_7_1',\n",
       " 'cut\\\\8\\\\ALY_8_0',\n",
       " 'cut\\\\8\\\\ALY_8_1',\n",
       " 'cut\\\\8\\\\ELINA_8_0',\n",
       " 'cut\\\\8\\\\ELINA_8_1',\n",
       " 'cut\\\\8\\\\ELINA_8_2',\n",
       " 'cut\\\\8\\\\ELINA_8_3',\n",
       " 'cut\\\\8\\\\ILYA_8_0',\n",
       " 'cut\\\\8\\\\ILYA_8_1',\n",
       " 'cut\\\\8\\\\ILYA_8_2',\n",
       " 'cut\\\\8\\\\ILYA_8_3',\n",
       " 'cut\\\\8\\\\NASTYA_8_0',\n",
       " 'cut\\\\8\\\\NASTYA_8_1',\n",
       " 'cut\\\\8\\\\NIKITA_8_0',\n",
       " 'cut\\\\8\\\\NIKITA_8_1',\n",
       " 'cut\\\\8\\\\OLYA_8_0',\n",
       " 'cut\\\\8\\\\OLYA_8_1',\n",
       " 'cut\\\\8\\\\POLINA_8_0',\n",
       " 'cut\\\\8\\\\POLINA_8_1',\n",
       " 'cut\\\\8\\\\SACHA_8_0',\n",
       " 'cut\\\\8\\\\SACHA_GOL_8_0',\n",
       " 'cut\\\\8\\\\SACHA_GOL_8_1',\n",
       " 'cut\\\\8\\\\SERGEY_8_0',\n",
       " 'cut\\\\8\\\\SERGEY_8_1',\n",
       " 'cut\\\\8\\\\SLAVA_8_0',\n",
       " 'cut\\\\8\\\\SLAVA_8_1',\n",
       " 'cut\\\\8\\\\SLAVA_8_2',\n",
       " 'cut\\\\8\\\\TATYANA_8_0',\n",
       " 'cut\\\\8\\\\TIMOFEY_8_0',\n",
       " 'cut\\\\8\\\\TIMOFEY_8_1',\n",
       " 'cut\\\\8\\\\VASYA_8_0',\n",
       " 'cut\\\\8\\\\VASYA_8_1',\n",
       " 'cut\\\\8\\\\WOMAN_8_0',\n",
       " 'cut\\\\8\\\\WOMAN_8_1',\n",
       " 'cut\\\\9\\\\ALY_9_0',\n",
       " 'cut\\\\9\\\\ALY_9_1',\n",
       " 'cut\\\\9\\\\ELINA_9_0',\n",
       " 'cut\\\\9\\\\ELINA_9_1',\n",
       " 'cut\\\\9\\\\ELINA_9_2',\n",
       " 'cut\\\\9\\\\ELINA_9_3',\n",
       " 'cut\\\\9\\\\ILYA_9_0',\n",
       " 'cut\\\\9\\\\ILYA_9_1',\n",
       " 'cut\\\\9\\\\ILYA_9_2',\n",
       " 'cut\\\\9\\\\ILYA_9_3',\n",
       " 'cut\\\\9\\\\NASTYA_9_0',\n",
       " 'cut\\\\9\\\\NASTYA_9_1',\n",
       " 'cut\\\\9\\\\NIKITA_9_0',\n",
       " 'cut\\\\9\\\\NIKITA_9_1',\n",
       " 'cut\\\\9\\\\OLYA_9_0',\n",
       " 'cut\\\\9\\\\OLYA_9_1',\n",
       " 'cut\\\\9\\\\POLINA_9_0',\n",
       " 'cut\\\\9\\\\POLINA_9_1',\n",
       " 'cut\\\\9\\\\SACHA_9_0',\n",
       " 'cut\\\\9\\\\SACHA_GOL_9_0',\n",
       " 'cut\\\\9\\\\SACHA_GOL_9_1',\n",
       " 'cut\\\\9\\\\SERGEY_9_0',\n",
       " 'cut\\\\9\\\\SERGEY_9_1',\n",
       " 'cut\\\\9\\\\SLAVA_9_0',\n",
       " 'cut\\\\9\\\\SLAVA_9_1',\n",
       " 'cut\\\\9\\\\SLAVA_9_2',\n",
       " 'cut\\\\9\\\\TATYANA_9_0',\n",
       " 'cut\\\\9\\\\TIMOFEY_9_0',\n",
       " 'cut\\\\9\\\\TIMOFEY_9_1',\n",
       " 'cut\\\\9\\\\VASYA_9_0',\n",
       " 'cut\\\\9\\\\VASYA_9_1',\n",
       " 'cut\\\\9\\\\WOMAN_9_0',\n",
       " 'cut\\\\9\\\\WOMAN_9_1',\n",
       " 'cut\\\\10\\\\ALY_10_0',\n",
       " 'cut\\\\10\\\\ALY_10_1',\n",
       " 'cut\\\\10\\\\ELINA_10_0',\n",
       " 'cut\\\\10\\\\ELINA_10_1',\n",
       " 'cut\\\\10\\\\ELINA_10_2',\n",
       " 'cut\\\\10\\\\ELINA_10_3',\n",
       " 'cut\\\\10\\\\ILYA_10_0',\n",
       " 'cut\\\\10\\\\ILYA_10_1',\n",
       " 'cut\\\\10\\\\ILYA_10_2',\n",
       " 'cut\\\\10\\\\ILYA_10_3',\n",
       " 'cut\\\\10\\\\NASTYA_10_0',\n",
       " 'cut\\\\10\\\\NASTYA_10_1',\n",
       " 'cut\\\\10\\\\NIKITA_10_0',\n",
       " 'cut\\\\10\\\\NIKITA_10_1',\n",
       " 'cut\\\\10\\\\OLYA_10_0',\n",
       " 'cut\\\\10\\\\OLYA_10_1',\n",
       " 'cut\\\\10\\\\POLINA_10_0',\n",
       " 'cut\\\\10\\\\POLINA_10_1',\n",
       " 'cut\\\\10\\\\SACHA_10_0',\n",
       " 'cut\\\\10\\\\SACHA_GOL_10_0',\n",
       " 'cut\\\\10\\\\SACHA_GOL_10_1',\n",
       " 'cut\\\\10\\\\SERGEY_10_0',\n",
       " 'cut\\\\10\\\\SERGEY_10_1',\n",
       " 'cut\\\\10\\\\SLAVA_10_0',\n",
       " 'cut\\\\10\\\\SLAVA_10_1',\n",
       " 'cut\\\\10\\\\SLAVA_10_2',\n",
       " 'cut\\\\10\\\\TATYANA_10_0',\n",
       " 'cut\\\\10\\\\TIMOFEY_10_0',\n",
       " 'cut\\\\10\\\\TIMOFEY_10_1',\n",
       " 'cut\\\\10\\\\VASYA_10_0',\n",
       " 'cut\\\\10\\\\VASYA_10_1',\n",
       " 'cut\\\\10\\\\WOMAN_10_0',\n",
       " 'cut\\\\10\\\\WOMAN_10_1']"
      ]
     },
     "execution_count": 7,
     "metadata": {},
     "output_type": "execute_result"
    }
   ],
   "source": [
    "all_data, labels = [], []\n",
    "max_frames, need_frames = 0, 0\n",
    "scale_factor = 1.73\n",
    "\n",
    "for number in numbers:\n",
    "    for video_autor in videos:\n",
    "        for video_idx in range(videos[video_autor]):      \n",
    "            file = os.path.join(DATA_PATH, number, video_autor + '_' + number + '_' + str(video_idx))\n",
    "            all_data.append(file)\n",
    "all_data"
   ]
  },
  {
   "cell_type": "code",
   "execution_count": 7,
   "id": "a26488d5",
   "metadata": {},
   "outputs": [
    {
     "ename": "FileNotFoundError",
     "evalue": "[WinError 3] Системе не удается найти указанный путь: 'cut\\\\1\\\\ALY\\\\0'",
     "output_type": "error",
     "traceback": [
      "\u001b[1;31m---------------------------------------------------------------------------\u001b[0m",
      "\u001b[1;31mFileNotFoundError\u001b[0m                         Traceback (most recent call last)",
      "Cell \u001b[1;32mIn [7], line 11\u001b[0m\n\u001b[0;32m      8\u001b[0m frames_per_video \u001b[38;5;241m=\u001b[39m []  \n\u001b[0;32m     10\u001b[0m npy_path \u001b[38;5;241m=\u001b[39m os\u001b[38;5;241m.\u001b[39mpath\u001b[38;5;241m.\u001b[39mjoin(DATA_PATH, number, video_autor, \u001b[38;5;28mstr\u001b[39m(video_idx))\n\u001b[1;32m---> 11\u001b[0m num_npy_files \u001b[38;5;241m=\u001b[39m \u001b[38;5;28mlen\u001b[39m(\u001b[43mos\u001b[49m\u001b[38;5;241;43m.\u001b[39;49m\u001b[43mlistdir\u001b[49m\u001b[43m(\u001b[49m\u001b[43mnpy_path\u001b[49m\u001b[43m)\u001b[49m)\n\u001b[0;32m     13\u001b[0m \u001b[38;5;28;01mif\u001b[39;00m max_frames \u001b[38;5;241m<\u001b[39m num_npy_files:\n\u001b[0;32m     14\u001b[0m     max_frames \u001b[38;5;241m=\u001b[39m num_npy_files\n",
      "\u001b[1;31mFileNotFoundError\u001b[0m: [WinError 3] Системе не удается найти указанный путь: 'cut\\\\1\\\\ALY\\\\0'"
     ]
    }
   ],
   "source": [
    "all_data, labels = [], []\n",
    "max_frames, need_frames = 0, 0\n",
    "scale_factor = 1.73\n",
    "\n",
    "for number in numbers:\n",
    "    for video_autor in videos:\n",
    "        for video_idx in range(videos[video_autor]):\n",
    "            frames_per_video = []  \n",
    "            \n",
    "            npy_path = os.path.join(DATA_PATH, number, video_autor, str(video_idx))\n",
    "            num_npy_files = len(os.listdir(npy_path))\n",
    "            \n",
    "            if max_frames < num_npy_files:\n",
    "                max_frames = num_npy_files\n",
    "                \n",
    "            for frame_num in range(num_npy_files):\n",
    "                npy_data = np.load(os.path.join(npy_path, \"{}.npy\".format(frame_num)))\n",
    "                frames_per_video.append(npy_data)\n",
    "        \n",
    "        all_data.append(frames_per_video)\n",
    "        labels.append(label_map[number])\n",
    "\n",
    "            \n",
    "need_frames = int(max_frames * scale_factor)\n",
    "\n",
    "print(need_frames)\n",
    "\n",
    "result_all_data = []\n",
    "\n",
    "for video in all_data:\n",
    "    scale = need_frames / len(video) \n",
    "    current_scale = scale \n",
    "    result_video = []\n",
    "    for frame in video:\n",
    "        while current_scale > 1:\n",
    "            result_video.append(frame)\n",
    "            current_scale = current_scale - 1\n",
    "        current_scale = current_scale + scale   \n",
    "    if len(result_video) < need_frames:\n",
    "        result_video.append(result_video[-1])\n",
    "    result_all_data.append(result_video)"
   ]
  },
  {
   "cell_type": "code",
   "execution_count": 18,
   "id": "166d4582",
   "metadata": {},
   "outputs": [
    {
     "ename": "NameError",
     "evalue": "name 'result_all_data' is not defined",
     "output_type": "error",
     "traceback": [
      "\u001b[1;31m---------------------------------------------------------------------------\u001b[0m",
      "\u001b[1;31mNameError\u001b[0m                                 Traceback (most recent call last)",
      "Cell \u001b[1;32mIn [18], line 1\u001b[0m\n\u001b[1;32m----> 1\u001b[0m np\u001b[38;5;241m.\u001b[39marray(\u001b[43mresult_all_data\u001b[49m)\u001b[38;5;241m.\u001b[39mshape\n",
      "\u001b[1;31mNameError\u001b[0m: name 'result_all_data' is not defined"
     ]
    }
   ],
   "source": [
    "np.array(result_all_data).shape"
   ]
  },
  {
   "cell_type": "code",
   "execution_count": 11,
   "id": "88ece1ac",
   "metadata": {},
   "outputs": [
    {
     "data": {
      "text/plain": [
       "(32,)"
      ]
     },
     "execution_count": 11,
     "metadata": {},
     "output_type": "execute_result"
    }
   ],
   "source": [
    "np.array(labels).shape"
   ]
  },
  {
   "cell_type": "code",
   "execution_count": 12,
   "id": "3111275e",
   "metadata": {},
   "outputs": [],
   "source": [
    "X = np.array(result_all_data)"
   ]
  },
  {
   "cell_type": "code",
   "execution_count": 13,
   "id": "4da6dadc",
   "metadata": {},
   "outputs": [],
   "source": [
    "y = to_categorical(labels).astype(int)"
   ]
  },
  {
   "cell_type": "code",
   "execution_count": 16,
   "id": "0256838a",
   "metadata": {},
   "outputs": [],
   "source": [
    "X_train, X_test, y_train, y_test = train_test_split(X, y, test_size=0.2, shuffle=True)"
   ]
  },
  {
   "cell_type": "code",
   "execution_count": 96,
   "id": "410768eb",
   "metadata": {},
   "outputs": [
    {
     "data": {
      "text/plain": [
       "(25, 140, 126)"
      ]
     },
     "execution_count": 96,
     "metadata": {},
     "output_type": "execute_result"
    }
   ],
   "source": [
    "X_train.shape"
   ]
  },
  {
   "cell_type": "code",
   "execution_count": 97,
   "id": "11d24880",
   "metadata": {},
   "outputs": [],
   "source": [
    "from tensorflow.keras.models import Sequential\n",
    "from tensorflow.keras.layers import LSTM, Dense, Conv2D, MaxPool2D, Flatten\n",
    "from tensorflow.keras.callbacks import ReduceLROnPlateau, EarlyStopping"
   ]
  },
  {
   "cell_type": "code",
   "execution_count": 98,
   "id": "24865ce5",
   "metadata": {},
   "outputs": [],
   "source": [
    "model = Sequential()\n",
    "model.add(LSTM(64, return_sequences=True, activation='relu', input_shape=(need_frames, 126)))\n",
    "model.add(LSTM(128, return_sequences=True, activation='relu'))\n",
    "model.add(LSTM(64, return_sequences=False, activation='relu'))\n",
    "model.add(Dense(64, activation='relu'))\n",
    "model.add(Dense(32, activation='relu'))\n",
    "model.add(Dense(len(numbers), activation='softmax'))"
   ]
  },
  {
   "cell_type": "code",
   "execution_count": 99,
   "id": "a62fe999",
   "metadata": {},
   "outputs": [],
   "source": [
    "model.compile(optimizer='Adam', loss='categorical_crossentropy', metrics=['accuracy'])"
   ]
  },
  {
   "cell_type": "code",
   "execution_count": 100,
   "id": "e2c76cbc",
   "metadata": {},
   "outputs": [],
   "source": [
    "reduce_lr = ReduceLROnPlateau(monitor='val_loss', factor=0.2, patience=1, min_lr=0.0005)\n",
    "early_stop = EarlyStopping(monitor='val_loss', min_delta=0, patience=2, verbose=0, mode='auto')"
   ]
  },
  {
   "cell_type": "code",
   "execution_count": 101,
   "id": "f4fc90c5",
   "metadata": {},
   "outputs": [
    {
     "name": "stdout",
     "output_type": "stream",
     "text": [
      "Epoch 1/50\n",
      "3/3 [==============================] - 7s 629ms/step - loss: 0.6931 - accuracy: 0.4800 - val_loss: 0.7068 - val_accuracy: 0.1429\n",
      "Epoch 2/50\n",
      "3/3 [==============================] - 1s 218ms/step - loss: 0.6870 - accuracy: 0.6400 - val_loss: 0.7210 - val_accuracy: 0.1429\n",
      "Epoch 3/50\n",
      "3/3 [==============================] - 1s 192ms/step - loss: 0.6793 - accuracy: 0.6800 - val_loss: 0.7431 - val_accuracy: 0.1429\n",
      "Epoch 4/50\n",
      "3/3 [==============================] - 0s 165ms/step - loss: 0.6652 - accuracy: 0.6800 - val_loss: 0.7744 - val_accuracy: 0.1429\n",
      "Epoch 5/50\n",
      "3/3 [==============================] - 0s 165ms/step - loss: 0.6382 - accuracy: 0.6800 - val_loss: 0.8997 - val_accuracy: 0.1429\n",
      "Epoch 6/50\n",
      "3/3 [==============================] - 0s 164ms/step - loss: 0.6214 - accuracy: 0.6800 - val_loss: 1.0279 - val_accuracy: 0.1429\n",
      "Epoch 7/50\n",
      "3/3 [==============================] - 0s 165ms/step - loss: 0.5953 - accuracy: 0.6800 - val_loss: 0.9523 - val_accuracy: 0.1429\n",
      "Epoch 8/50\n",
      "3/3 [==============================] - 0s 164ms/step - loss: 0.5998 - accuracy: 0.6800 - val_loss: 0.9507 - val_accuracy: 0.1429\n",
      "Epoch 9/50\n",
      "3/3 [==============================] - 0s 165ms/step - loss: 0.7524 - accuracy: 0.6800 - val_loss: 1.1015 - val_accuracy: 0.1429\n",
      "Epoch 10/50\n",
      "3/3 [==============================] - 0s 166ms/step - loss: 0.6143 - accuracy: 0.6800 - val_loss: 0.8632 - val_accuracy: 0.1429\n",
      "Epoch 11/50\n",
      "3/3 [==============================] - 0s 167ms/step - loss: 1.6057 - accuracy: 0.6400 - val_loss: 0.7834 - val_accuracy: 0.1429\n",
      "Epoch 12/50\n",
      "3/3 [==============================] - 0s 165ms/step - loss: 0.6549 - accuracy: 0.6800 - val_loss: 0.7573 - val_accuracy: 0.1429\n",
      "Epoch 13/50\n",
      "3/3 [==============================] - 0s 164ms/step - loss: 0.6638 - accuracy: 0.6800 - val_loss: 0.7483 - val_accuracy: 0.1429\n",
      "Epoch 14/50\n",
      "3/3 [==============================] - 0s 166ms/step - loss: 0.6686 - accuracy: 0.6800 - val_loss: 0.7472 - val_accuracy: 0.1429\n",
      "Epoch 15/50\n",
      "3/3 [==============================] - 0s 166ms/step - loss: 0.6692 - accuracy: 0.6800 - val_loss: 0.7512 - val_accuracy: 0.1429\n",
      "Epoch 16/50\n",
      "3/3 [==============================] - 0s 167ms/step - loss: 0.6675 - accuracy: 0.6800 - val_loss: 0.7596 - val_accuracy: 0.1429\n",
      "Epoch 17/50\n",
      "3/3 [==============================] - 0s 174ms/step - loss: 0.6650 - accuracy: 0.6800 - val_loss: 0.7737 - val_accuracy: 0.1429\n",
      "Epoch 18/50\n",
      "3/3 [==============================] - 0s 171ms/step - loss: 0.6632 - accuracy: 0.6800 - val_loss: 0.7929 - val_accuracy: 0.1429\n",
      "Epoch 19/50\n",
      "3/3 [==============================] - 0s 173ms/step - loss: 0.6539 - accuracy: 0.6800 - val_loss: 0.8071 - val_accuracy: 0.1429\n",
      "Epoch 20/50\n",
      "3/3 [==============================] - 0s 168ms/step - loss: 0.6479 - accuracy: 0.6800 - val_loss: 0.9235 - val_accuracy: 0.1429\n",
      "Epoch 21/50\n",
      "3/3 [==============================] - 0s 170ms/step - loss: 1.0137 - accuracy: 0.6800 - val_loss: 533.6141 - val_accuracy: 0.1429\n",
      "Epoch 22/50\n",
      "3/3 [==============================] - 0s 169ms/step - loss: 304176.6250 - accuracy: 0.6000 - val_loss: 0.8447 - val_accuracy: 0.1429\n",
      "Epoch 23/50\n",
      "3/3 [==============================] - 0s 168ms/step - loss: 0.6460 - accuracy: 0.6800 - val_loss: 0.7657 - val_accuracy: 0.1429\n",
      "Epoch 24/50\n",
      "3/3 [==============================] - 0s 170ms/step - loss: 0.6662 - accuracy: 0.6000 - val_loss: 0.7531 - val_accuracy: 0.2857\n",
      "Epoch 25/50\n",
      "3/3 [==============================] - 0s 170ms/step - loss: 0.6690 - accuracy: 0.5200 - val_loss: 0.7529 - val_accuracy: 0.4286\n",
      "Epoch 26/50\n",
      "3/3 [==============================] - 0s 169ms/step - loss: 0.6712 - accuracy: 0.5200 - val_loss: 0.7602 - val_accuracy: 0.4286\n",
      "Epoch 27/50\n",
      "3/3 [==============================] - 0s 172ms/step - loss: 0.6597 - accuracy: 0.5200 - val_loss: 0.7763 - val_accuracy: 0.4286\n",
      "Epoch 28/50\n",
      "3/3 [==============================] - 0s 166ms/step - loss: 0.6208 - accuracy: 0.5200 - val_loss: 0.7776 - val_accuracy: 0.4286\n",
      "Epoch 29/50\n",
      "3/3 [==============================] - 0s 174ms/step - loss: 0.6190 - accuracy: 0.5200 - val_loss: 0.7754 - val_accuracy: 0.4286\n",
      "Epoch 30/50\n",
      "3/3 [==============================] - 0s 164ms/step - loss: 0.6447 - accuracy: 0.5200 - val_loss: 0.7604 - val_accuracy: 0.4286\n",
      "Epoch 31/50\n",
      "3/3 [==============================] - 0s 165ms/step - loss: 0.6620 - accuracy: 0.5200 - val_loss: 0.7495 - val_accuracy: 0.4286\n",
      "Epoch 32/50\n",
      "3/3 [==============================] - 0s 164ms/step - loss: 0.6633 - accuracy: 0.5200 - val_loss: 0.7455 - val_accuracy: 0.4286\n",
      "Epoch 33/50\n",
      "3/3 [==============================] - 0s 166ms/step - loss: 0.6640 - accuracy: 0.5600 - val_loss: 0.7451 - val_accuracy: 0.4286\n",
      "Epoch 34/50\n",
      "3/3 [==============================] - 0s 165ms/step - loss: 0.6629 - accuracy: 0.6000 - val_loss: 0.7482 - val_accuracy: 0.4286\n",
      "Epoch 35/50\n",
      "3/3 [==============================] - 0s 166ms/step - loss: 0.6608 - accuracy: 0.5600 - val_loss: 0.7516 - val_accuracy: 0.4286\n",
      "Epoch 36/50\n",
      "3/3 [==============================] - 0s 165ms/step - loss: 0.6582 - accuracy: 0.5600 - val_loss: 0.7532 - val_accuracy: 0.4286\n",
      "Epoch 37/50\n",
      "3/3 [==============================] - 0s 164ms/step - loss: 0.6544 - accuracy: 0.5600 - val_loss: 0.7597 - val_accuracy: 0.4286\n",
      "Epoch 38/50\n",
      "3/3 [==============================] - 0s 166ms/step - loss: 0.6508 - accuracy: 0.5600 - val_loss: 0.7669 - val_accuracy: 0.4286\n",
      "Epoch 39/50\n",
      "3/3 [==============================] - 0s 169ms/step - loss: 0.6473 - accuracy: 0.5600 - val_loss: 0.7776 - val_accuracy: 0.4286\n",
      "Epoch 40/50\n",
      "3/3 [==============================] - 0s 165ms/step - loss: 0.6448 - accuracy: 0.5200 - val_loss: 0.7895 - val_accuracy: 0.4286\n",
      "Epoch 41/50\n",
      "3/3 [==============================] - 0s 169ms/step - loss: 0.6419 - accuracy: 0.5200 - val_loss: 0.7994 - val_accuracy: 0.2857\n",
      "Epoch 42/50\n",
      "3/3 [==============================] - 0s 170ms/step - loss: 0.6359 - accuracy: 0.6000 - val_loss: 0.8079 - val_accuracy: 0.2857\n",
      "Epoch 43/50\n",
      "3/3 [==============================] - 0s 170ms/step - loss: 0.6296 - accuracy: 0.7200 - val_loss: 0.8095 - val_accuracy: 0.1429\n",
      "Epoch 44/50\n",
      "3/3 [==============================] - 0s 169ms/step - loss: 0.6285 - accuracy: 0.6800 - val_loss: 0.8069 - val_accuracy: 0.1429\n",
      "Epoch 45/50\n",
      "3/3 [==============================] - 0s 167ms/step - loss: 0.6244 - accuracy: 0.6800 - val_loss: 0.8075 - val_accuracy: 0.1429\n",
      "Epoch 46/50\n",
      "3/3 [==============================] - 0s 168ms/step - loss: 0.6198 - accuracy: 0.6800 - val_loss: 0.8116 - val_accuracy: 0.1429\n",
      "Epoch 47/50\n",
      "3/3 [==============================] - 0s 170ms/step - loss: 0.6165 - accuracy: 0.6800 - val_loss: 0.8182 - val_accuracy: 0.1429\n",
      "Epoch 48/50\n",
      "3/3 [==============================] - 0s 166ms/step - loss: 0.6132 - accuracy: 0.6800 - val_loss: 0.8360 - val_accuracy: 0.1429\n",
      "Epoch 49/50\n",
      "3/3 [==============================] - 0s 168ms/step - loss: 0.6067 - accuracy: 0.6800 - val_loss: 0.8589 - val_accuracy: 0.1429\n",
      "Epoch 50/50\n",
      "3/3 [==============================] - 0s 173ms/step - loss: 0.6064 - accuracy: 0.6800 - val_loss: 0.8783 - val_accuracy: 0.1429\n"
     ]
    }
   ],
   "source": [
    "history_lstm = model.fit(X_train, y_train, epochs=50, batch_size=10, validation_data=(X_test, y_test))"
   ]
  },
  {
   "cell_type": "code",
   "execution_count": 105,
   "id": "f51c4b2e",
   "metadata": {},
   "outputs": [],
   "source": [
    "import matplotlib.pyplot as plt"
   ]
  },
  {
   "cell_type": "code",
   "execution_count": 106,
   "id": "fb8c9eb4",
   "metadata": {},
   "outputs": [
    {
     "data": {
      "text/plain": [
       "<matplotlib.legend.Legend at 0x1b7e180ec70>"
      ]
     },
     "execution_count": 106,
     "metadata": {},
     "output_type": "execute_result"
    },
    {
     "data": {
      "image/png": "[encoded data removed]",
      "text/plain": [
       "<Figure size 2000x1000 with 1 Axes>"
      ]
     },
     "metadata": {},
     "output_type": "display_data"
    }
   ],
   "source": [
    "fig = plt.figure(figsize=(20,10))\n",
    "plt.title(\"Train - Validation Loss\")\n",
    "plt.plot( history_lstm.history['loss'], label='train')\n",
    "plt.plot( history_lstm.history['val_loss'], label='validation')\n",
    "plt.xlabel('num_epochs', fontsize=12)\n",
    "plt.ylabel('loss', fontsize=12)\n",
    "plt.legend(loc='best')"
   ]
  },
  {
   "cell_type": "code",
   "execution_count": 107,
   "id": "7f1c7af0",
   "metadata": {},
   "outputs": [
    {
     "data": {
      "text/plain": [
       "<matplotlib.legend.Legend at 0x1b7e2ab0220>"
      ]
     },
     "execution_count": 107,
     "metadata": {},
     "output_type": "execute_result"
    },
    {
     "data": {
      "image/png": "[encoded data removed]",
      "text/plain": [
       "<Figure size 2000x1000 with 1 Axes>"
      ]
     },
     "metadata": {},
     "output_type": "display_data"
    }
   ],
   "source": [
    "fig = plt.figure(figsize=(20,10))\n",
    "plt.title(\"Train - Validation Accuracy\")\n",
    "plt.plot(history_lstm.history['accuracy'], label='train')\n",
    "plt.plot(history_lstm.history['val_accuracy'], label='validation')\n",
    "plt.xlabel('num_epochs', fontsize=12)\n",
    "plt.ylabel('accuracy', fontsize=12)\n",
    "plt.legend(loc='best')"
   ]
  },
  {
   "cell_type": "code",
   "execution_count": null,
   "id": "4f0cb999",
   "metadata": {},
   "outputs": [],
   "source": []
  },
  {
   "cell_type": "code",
   "execution_count": null,
   "id": "504997e7",
   "metadata": {},
   "outputs": [],
   "source": []
  }
 ],
 "metadata": {
  "kernelspec": {
   "display_name": "Python 3 (ipykernel)",
   "language": "python",
   "name": "python3"
  },
  "language_info": {
   "codemirror_mode": {
    "name": "ipython",
    "version": 3
   },
   "file_extension": ".py",
   "mimetype": "text/x-python",
   "name": "python",
   "nbconvert_exporter": "python",
   "pygments_lexer": "ipython3",
   "version": "3.9.12"
  }
 },
 "nbformat": 4,
 "nbformat_minor": 5
}
